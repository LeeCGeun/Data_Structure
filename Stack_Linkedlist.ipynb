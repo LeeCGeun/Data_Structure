{
 "cells": [
  {
   "cell_type": "markdown",
   "metadata": {},
   "source": [
    "### Stack_Using_Linkedlist"
   ]
  },
  {
   "cell_type": "code",
   "execution_count": 1,
   "metadata": {},
   "outputs": [
    {
     "name": "stdout",
     "output_type": "stream",
     "text": [
      "2 4 6 5 2 7 9 \n",
      "2\n",
      "4\n",
      "6\n",
      "5\n",
      "2\n",
      "7\n",
      "9\n"
     ]
    }
   ],
   "source": [
    "class Node: # Create a node\n",
    "    def __init__(self, data):\n",
    "        self.data = data\n",
    "        self.next = None\n",
    "\n",
    "\n",
    "class Stack:\n",
    "    def __init__(self):\n",
    "        self.head = None # head : Last node added\n",
    "\n",
    "    def push(self, data):\n",
    "        new_node = Node(data) \n",
    "        new_node.next = self.head # Beware of order\n",
    "        self.head = new_node\n",
    "\n",
    "    def is_empty(self):\n",
    "        return self.head is None # Check if it is empty with or without a head\n",
    "    \n",
    "    def pop(self):\n",
    "        if self.is_empty():\n",
    "            return None\n",
    "        # Pull node from head position\n",
    "        data = self.head.data\n",
    "        self.head = self.head.next\n",
    "        return data\n",
    "    \n",
    "    # top element\n",
    "    def top(self):\n",
    "        if self.is_empty():\n",
    "            return None\n",
    "        return self.head.data\n",
    "\n",
    "    # Output the element to be extracted first.\n",
    "    def show(self):\n",
    "        cur = self.head # Not to lose the head.\n",
    "        while cur:\n",
    "            print(cur.data, end=\" \")\n",
    "            cur = cur.next\n",
    "\n",
    "\n",
    "stack = Stack()\n",
    "arr = [9, 7, 2, 5, 6, 4, 2]\n",
    "for x in arr:\n",
    "    stack.push(x)\n",
    "stack.show()\n",
    "print()\n",
    "\n",
    "while not stack.is_empty():\n",
    "    print(stack.pop())"
   ]
  }
 ],
 "metadata": {
  "kernelspec": {
   "display_name": "Python 3",
   "language": "python",
   "name": "python3"
  },
  "language_info": {
   "codemirror_mode": {
    "name": "ipython",
    "version": 3
   },
   "file_extension": ".py",
   "mimetype": "text/x-python",
   "name": "python",
   "nbconvert_exporter": "python",
   "pygments_lexer": "ipython3",
   "version": "3.11.4"
  },
  "orig_nbformat": 4
 },
 "nbformat": 4,
 "nbformat_minor": 2
}
